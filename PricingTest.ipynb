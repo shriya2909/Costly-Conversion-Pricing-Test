{
  "nbformat": 4,
  "nbformat_minor": 0,
  "metadata": {
    "colab": {
      "name": "PricingTest",
      "provenance": [],
      "authorship_tag": "ABX9TyPx/YDeM2taRZ5v3Kejw9X2",
      "include_colab_link": true
    },
    "kernelspec": {
      "name": "python3",
      "display_name": "Python 3"
    },
    "accelerator": "GPU"
  },
  "cells": [
    {
      "cell_type": "markdown",
      "metadata": {
        "id": "view-in-github",
        "colab_type": "text"
      },
      "source": [
        "<a href=\"https://colab.research.google.com/github/shriya2909/Pricing-Test/blob/master/PricingTest.ipynb\" target=\"_parent\"><img src=\"https://colab.research.google.com/assets/colab-badge.svg\" alt=\"Open In Colab\"/></a>"
      ]
    },
    {
      "cell_type": "markdown",
      "metadata": {
        "id": "TT32HfQmqIBX",
        "colab_type": "text"
      },
      "source": [
        "# **Problem Statement**\n",
        "\n",
        "Company XYZ sells a software for \\$39. Since revenue has been flat for some time, the VP of Product has decided to run a test increasing the price. She hopes that this would increase revenue. In the experiment, 66% of the users have seen the old price (\\$39), while a random sample of 33% users a higher price (\\$59). The test has been running for some time and the VP of Product is interested in understanding how it went and whether it would make sense to increase the price for all the users.\n",
        "\n",
        "Especially need to answer the following questions:\n",
        "\n",
        "1. Should the company sell its software for \\$39 or \\$59?\n",
        "\n",
        "2. The VP of Product is interested in having a holistic view into user behavior, especially focusing on actionable insights that might increase conversion rate. What are your main findings looking at the data?\n",
        "\n",
        "3.  The VP of Product feels that the test has been running for too long and she should have been able to get statistically significant results in a shorter time. Do you agree with her intuition? After how many days you would have stopped the test? Please, explain why.\n",
        "\n",
        "# **Data**\n",
        "\n",
        "Data includes two tables :<br>\n",
        "\n",
        "1.   User_table - Information about the user.\n",
        "2.   Test_results - Data about the test.\n",
        "\n",
        "**Note **: For the purpose of the experiment, the group that sees the higher price is the experimental group while the one that sees the lower price is the control group.\n",
        "\n",
        "# **Quick Answers**\n",
        "1. *Should the company sell its software for \\$39 or \\$59?*\n",
        "<br> <br>\n",
        "Based on the result of the A/B testing, it is evident that the average revenue generated from the experimental group is greater than the control group(p-value <0.1*10^-8). Therefore, selling the software for \\$59 would be good strategy. The control group's conversion rate is higher(1.99% v/s 1.556%) but presents lower average revenue per user relative to the experimental group. As revenue is the experimental variable in question as opposed to conversion rate, and thus it would be appropriate to increase the price.\n",
        "\n",
        "\n",
        "2. *The VP of Product is interested in having a holistic view into user behavior, especially focusing on actionable insights that might increase conversion rate. What are your main findings looking at the data?*\n",
        "<br>\n",
        "\n",
        ">  User segments that were converted were : \n",
        "1.   Utilising Apple based products i.e. they were **MAC** and **iOS** users.\n",
        "2.   Reaching the product via **Friend Referrals**.\n",
        "\n",
        "> Surprisingly, that did not show much segementation in users that were converted as opposed to non converts was the choice of device used by them.\n",
        "\n",
        "> In my opinion, optimising products for apple products and incentivizing friend referrals would be a good approach to maximize user groups that are likely to convert. Also, paying closer attention to groups that are least likely - **Linux** user may be a good utilisation not resources. My guess would be that the software maybe faulty when it comes to the Linux OS.\n",
        "\n",
        "\n",
        "\n",
        "\n",
        "3.  *The VP of Product feels that the test has been running for too long and she should have been able to get statistically significant results in a shorter time. Do you agree with her intuition? After how many days you would have stopped the test? Please, explain why.*\n",
        "<br><br>\n",
        "Running the test for just **13 days** as opposed to 3 months resulted in p-value < 0.001 and therefore would have been sufficient to establish significant difference between the the average revenue of the two groups.\n",
        "This was determined by calculating p-values for shorter time periods. By utilising the same A/B testing approach, it was checked whether running the A/B test for a shorter time period could still provide significant p-value. \n"
      ]
    },
    {
      "cell_type": "code",
      "metadata": {
        "id": "6mixX4dV7CpK",
        "colab_type": "code",
        "colab": {
          "base_uri": "https://localhost:8080/",
          "height": 128
        },
        "outputId": "72ccddf5-9582-4967-dab6-53d7e8212806"
      },
      "source": [
        "#Access the google drive\n",
        "from google.colab import drive\n",
        "drive.mount('/content/drive')"
      ],
      "execution_count": 1,
      "outputs": [
        {
          "output_type": "stream",
          "text": [
            "Go to this URL in a browser: https://accounts.google.com/o/oauth2/auth?client_id=947318989803-6bn6qk8qdgf4n4g3pfee6491hc0brc4i.apps.googleusercontent.com&redirect_uri=urn%3aietf%3awg%3aoauth%3a2.0%3aoob&response_type=code&scope=email%20https%3a%2f%2fwww.googleapis.com%2fauth%2fdocs.test%20https%3a%2f%2fwww.googleapis.com%2fauth%2fdrive%20https%3a%2f%2fwww.googleapis.com%2fauth%2fdrive.photos.readonly%20https%3a%2f%2fwww.googleapis.com%2fauth%2fpeopleapi.readonly\n",
            "\n",
            "Enter your authorization code:\n",
            "··········\n",
            "Mounted at /content/drive\n"
          ],
          "name": "stdout"
        }
      ]
    },
    {
      "cell_type": "code",
      "metadata": {
        "id": "3Tgm-MtD_VmX",
        "colab_type": "code",
        "colab": {
          "base_uri": "https://localhost:8080/",
          "height": 72
        },
        "outputId": "da6dee04-dc43-41cb-bf31-304c227d3f95"
      },
      "source": [
        "#Setting working directory to the correct directory \n",
        "!pwd\n",
        "%cd \"/content/drive/My Drive/Pricing_Test_Data\"\n",
        "!pwd"
      ],
      "execution_count": 2,
      "outputs": [
        {
          "output_type": "stream",
          "text": [
            "/content\n",
            "/content/drive/My Drive/Pricing_Test_Data\n",
            "/content/drive/My Drive/Pricing_Test_Data\n"
          ],
          "name": "stdout"
        }
      ]
    },
    {
      "cell_type": "code",
      "metadata": {
        "id": "k46M6FjJACtj",
        "colab_type": "code",
        "colab": {
          "base_uri": "https://localhost:8080/",
          "height": 36
        },
        "outputId": "1992956d-b4b3-4ad3-9966-4f70462964d8"
      },
      "source": [
        "#Check if GPU is being utilised\n",
        "\n",
        "import tensorflow as tf\n",
        "tf.test.gpu_device_name()"
      ],
      "execution_count": 3,
      "outputs": [
        {
          "output_type": "execute_result",
          "data": {
            "application/vnd.google.colaboratory.intrinsic": {
              "type": "string"
            },
            "text/plain": [
              "'/device:GPU:0'"
            ]
          },
          "metadata": {
            "tags": []
          },
          "execution_count": 3
        }
      ]
    },
    {
      "cell_type": "code",
      "metadata": {
        "id": "2oxWg_iDAbhd",
        "colab_type": "code",
        "colab": {}
      },
      "source": [
        "#Read the csv files into a dataframes\n",
        "\n",
        "import pandas as pd\n",
        "pd.set_option('display.max_columns', None)\n",
        "test_data = pd.DataFrame(pd.read_csv('./test_results.csv'))\n",
        "user_data = pd.DataFrame(pd.read_csv('./user_table.csv'))"
      ],
      "execution_count": 4,
      "outputs": []
    },
    {
      "cell_type": "markdown",
      "metadata": {
        "id": "V7R414154oMC",
        "colab_type": "text"
      },
      "source": [
        "Checking for nulls"
      ]
    },
    {
      "cell_type": "code",
      "metadata": {
        "id": "uDWTYmT0j2RJ",
        "colab_type": "code",
        "colab": {
          "base_uri": "https://localhost:8080/",
          "height": 206
        },
        "outputId": "94f57ec6-8935-40f6-9189-e314da108301"
      },
      "source": [
        "user_data.head()"
      ],
      "execution_count": 52,
      "outputs": [
        {
          "output_type": "execute_result",
          "data": {
            "text/html": [
              "<div>\n",
              "<style scoped>\n",
              "    .dataframe tbody tr th:only-of-type {\n",
              "        vertical-align: middle;\n",
              "    }\n",
              "\n",
              "    .dataframe tbody tr th {\n",
              "        vertical-align: top;\n",
              "    }\n",
              "\n",
              "    .dataframe thead th {\n",
              "        text-align: right;\n",
              "    }\n",
              "</style>\n",
              "<table border=\"1\" class=\"dataframe\">\n",
              "  <thead>\n",
              "    <tr style=\"text-align: right;\">\n",
              "      <th></th>\n",
              "      <th>user_id</th>\n",
              "      <th>city</th>\n",
              "      <th>country</th>\n",
              "      <th>lat</th>\n",
              "      <th>long</th>\n",
              "    </tr>\n",
              "  </thead>\n",
              "  <tbody>\n",
              "    <tr>\n",
              "      <th>0</th>\n",
              "      <td>510335</td>\n",
              "      <td>Peabody</td>\n",
              "      <td>USA</td>\n",
              "      <td>42.53</td>\n",
              "      <td>-70.97</td>\n",
              "    </tr>\n",
              "    <tr>\n",
              "      <th>1</th>\n",
              "      <td>89568</td>\n",
              "      <td>Reno</td>\n",
              "      <td>USA</td>\n",
              "      <td>39.54</td>\n",
              "      <td>-119.82</td>\n",
              "    </tr>\n",
              "    <tr>\n",
              "      <th>2</th>\n",
              "      <td>434134</td>\n",
              "      <td>Rialto</td>\n",
              "      <td>USA</td>\n",
              "      <td>34.11</td>\n",
              "      <td>-117.39</td>\n",
              "    </tr>\n",
              "    <tr>\n",
              "      <th>3</th>\n",
              "      <td>289769</td>\n",
              "      <td>Carson City</td>\n",
              "      <td>USA</td>\n",
              "      <td>39.15</td>\n",
              "      <td>-119.74</td>\n",
              "    </tr>\n",
              "    <tr>\n",
              "      <th>4</th>\n",
              "      <td>939586</td>\n",
              "      <td>Chicago</td>\n",
              "      <td>USA</td>\n",
              "      <td>41.84</td>\n",
              "      <td>-87.68</td>\n",
              "    </tr>\n",
              "  </tbody>\n",
              "</table>\n",
              "</div>"
            ],
            "text/plain": [
              "   user_id         city country    lat    long\n",
              "0   510335      Peabody     USA  42.53  -70.97\n",
              "1    89568         Reno     USA  39.54 -119.82\n",
              "2   434134       Rialto     USA  34.11 -117.39\n",
              "3   289769  Carson City     USA  39.15 -119.74\n",
              "4   939586      Chicago     USA  41.84  -87.68"
            ]
          },
          "metadata": {
            "tags": []
          },
          "execution_count": 52
        }
      ]
    },
    {
      "cell_type": "code",
      "metadata": {
        "id": "kHl-e_OY0yUR",
        "colab_type": "code",
        "colab": {
          "base_uri": "https://localhost:8080/",
          "height": 181
        },
        "outputId": "f455f529-a425-4ded-a657-e7029573feaa"
      },
      "source": [
        "test_data.isnull().sum()"
      ],
      "execution_count": 5,
      "outputs": [
        {
          "output_type": "execute_result",
          "data": {
            "text/plain": [
              "user_id             0\n",
              "timestamp           0\n",
              "source              0\n",
              "device              0\n",
              "operative_system    0\n",
              "test                0\n",
              "price               0\n",
              "converted           0\n",
              "dtype: int64"
            ]
          },
          "metadata": {
            "tags": []
          },
          "execution_count": 5
        }
      ]
    },
    {
      "cell_type": "code",
      "metadata": {
        "id": "2SSpQvVL4fCV",
        "colab_type": "code",
        "colab": {
          "base_uri": "https://localhost:8080/",
          "height": 126
        },
        "outputId": "74f063fe-ff79-408c-a1cb-d0aea73194b4"
      },
      "source": [
        "user_data.isnull().sum()"
      ],
      "execution_count": 6,
      "outputs": [
        {
          "output_type": "execute_result",
          "data": {
            "text/plain": [
              "user_id    0\n",
              "city       0\n",
              "country    0\n",
              "lat        0\n",
              "long       0\n",
              "dtype: int64"
            ]
          },
          "metadata": {
            "tags": []
          },
          "execution_count": 6
        }
      ]
    },
    {
      "cell_type": "code",
      "metadata": {
        "id": "YrnMVLyB4vtz",
        "colab_type": "code",
        "colab": {
          "base_uri": "https://localhost:8080/",
          "height": 206
        },
        "outputId": "18daf64a-e527-47db-f6db-67905e12f0c9"
      },
      "source": [
        "test_data[['price', 'test', 'user_id']].groupby(['test', 'price']).count()"
      ],
      "execution_count": 7,
      "outputs": [
        {
          "output_type": "execute_result",
          "data": {
            "text/html": [
              "<div>\n",
              "<style scoped>\n",
              "    .dataframe tbody tr th:only-of-type {\n",
              "        vertical-align: middle;\n",
              "    }\n",
              "\n",
              "    .dataframe tbody tr th {\n",
              "        vertical-align: top;\n",
              "    }\n",
              "\n",
              "    .dataframe thead th {\n",
              "        text-align: right;\n",
              "    }\n",
              "</style>\n",
              "<table border=\"1\" class=\"dataframe\">\n",
              "  <thead>\n",
              "    <tr style=\"text-align: right;\">\n",
              "      <th></th>\n",
              "      <th></th>\n",
              "      <th>user_id</th>\n",
              "    </tr>\n",
              "    <tr>\n",
              "      <th>test</th>\n",
              "      <th>price</th>\n",
              "      <th></th>\n",
              "    </tr>\n",
              "  </thead>\n",
              "  <tbody>\n",
              "    <tr>\n",
              "      <th rowspan=\"2\" valign=\"top\">0</th>\n",
              "      <th>39</th>\n",
              "      <td>202517</td>\n",
              "    </tr>\n",
              "    <tr>\n",
              "      <th>59</th>\n",
              "      <td>210</td>\n",
              "    </tr>\n",
              "    <tr>\n",
              "      <th rowspan=\"2\" valign=\"top\">1</th>\n",
              "      <th>39</th>\n",
              "      <td>155</td>\n",
              "    </tr>\n",
              "    <tr>\n",
              "      <th>59</th>\n",
              "      <td>113918</td>\n",
              "    </tr>\n",
              "  </tbody>\n",
              "</table>\n",
              "</div>"
            ],
            "text/plain": [
              "            user_id\n",
              "test price         \n",
              "0    39      202517\n",
              "     59         210\n",
              "1    39         155\n",
              "     59      113918"
            ]
          },
          "metadata": {
            "tags": []
          },
          "execution_count": 7
        }
      ]
    },
    {
      "cell_type": "markdown",
      "metadata": {
        "id": "9jBXcW6n9UtA",
        "colab_type": "text"
      },
      "source": [
        "The data is inconsistent. The column test and price do not correspond to appropriate values. Few users who are labelled with test=0 see the price \\$59 instead of \\$39. While some users who are labelled with test=1 see the price \\$39.\n",
        "The cause of the erroroneous data is not clear and the size of this data is not large therefore deleting these entries may be appropriate."
      ]
    },
    {
      "cell_type": "code",
      "metadata": {
        "id": "bBZTePtS-q7d",
        "colab_type": "code",
        "colab": {}
      },
      "source": [
        "clean_ctrl = test_data[(test_data['test'] == 0) & (test_data['price'] == 39)] \n",
        "clean_exp = test_data[(test_data['test'] == 1) & (test_data['price'] == 59)] \n",
        "clean_test_data = pd.concat([clean_ctrl,clean_exp] )"
      ],
      "execution_count": 8,
      "outputs": []
    },
    {
      "cell_type": "code",
      "metadata": {
        "id": "O17e9gqs_Qu1",
        "colab_type": "code",
        "colab": {
          "base_uri": "https://localhost:8080/",
          "height": 143
        },
        "outputId": "6409c298-b651-4df0-a668-59ddb6448be6"
      },
      "source": [
        "clean_test_data[['price', 'test', 'user_id']].groupby(['test', 'price']).count()"
      ],
      "execution_count": 9,
      "outputs": [
        {
          "output_type": "execute_result",
          "data": {
            "text/html": [
              "<div>\n",
              "<style scoped>\n",
              "    .dataframe tbody tr th:only-of-type {\n",
              "        vertical-align: middle;\n",
              "    }\n",
              "\n",
              "    .dataframe tbody tr th {\n",
              "        vertical-align: top;\n",
              "    }\n",
              "\n",
              "    .dataframe thead th {\n",
              "        text-align: right;\n",
              "    }\n",
              "</style>\n",
              "<table border=\"1\" class=\"dataframe\">\n",
              "  <thead>\n",
              "    <tr style=\"text-align: right;\">\n",
              "      <th></th>\n",
              "      <th></th>\n",
              "      <th>user_id</th>\n",
              "    </tr>\n",
              "    <tr>\n",
              "      <th>test</th>\n",
              "      <th>price</th>\n",
              "      <th></th>\n",
              "    </tr>\n",
              "  </thead>\n",
              "  <tbody>\n",
              "    <tr>\n",
              "      <th>0</th>\n",
              "      <th>39</th>\n",
              "      <td>202517</td>\n",
              "    </tr>\n",
              "    <tr>\n",
              "      <th>1</th>\n",
              "      <th>59</th>\n",
              "      <td>113918</td>\n",
              "    </tr>\n",
              "  </tbody>\n",
              "</table>\n",
              "</div>"
            ],
            "text/plain": [
              "            user_id\n",
              "test price         \n",
              "0    39      202517\n",
              "1    59      113918"
            ]
          },
          "metadata": {
            "tags": []
          },
          "execution_count": 9
        }
      ]
    },
    {
      "cell_type": "code",
      "metadata": {
        "id": "g9KzYCUCAT_7",
        "colab_type": "code",
        "colab": {}
      },
      "source": [
        ""
      ],
      "execution_count": 9,
      "outputs": []
    },
    {
      "cell_type": "markdown",
      "metadata": {
        "id": "M5iEN-aP_guS",
        "colab_type": "text"
      },
      "source": [
        "Taking a look at conversion for both the test groups"
      ]
    },
    {
      "cell_type": "code",
      "metadata": {
        "id": "JruyVzeF_mvi",
        "colab_type": "code",
        "colab": {
          "base_uri": "https://localhost:8080/",
          "height": 206
        },
        "outputId": "03fd1f3c-90ed-4437-fde9-6dcc1cfe3cc7"
      },
      "source": [
        "clean_test_data[['price', 'converted', 'user_id']].groupby(['price', 'converted']).count()"
      ],
      "execution_count": 10,
      "outputs": [
        {
          "output_type": "execute_result",
          "data": {
            "text/html": [
              "<div>\n",
              "<style scoped>\n",
              "    .dataframe tbody tr th:only-of-type {\n",
              "        vertical-align: middle;\n",
              "    }\n",
              "\n",
              "    .dataframe tbody tr th {\n",
              "        vertical-align: top;\n",
              "    }\n",
              "\n",
              "    .dataframe thead th {\n",
              "        text-align: right;\n",
              "    }\n",
              "</style>\n",
              "<table border=\"1\" class=\"dataframe\">\n",
              "  <thead>\n",
              "    <tr style=\"text-align: right;\">\n",
              "      <th></th>\n",
              "      <th></th>\n",
              "      <th>user_id</th>\n",
              "    </tr>\n",
              "    <tr>\n",
              "      <th>price</th>\n",
              "      <th>converted</th>\n",
              "      <th></th>\n",
              "    </tr>\n",
              "  </thead>\n",
              "  <tbody>\n",
              "    <tr>\n",
              "      <th rowspan=\"2\" valign=\"top\">39</th>\n",
              "      <th>0</th>\n",
              "      <td>198487</td>\n",
              "    </tr>\n",
              "    <tr>\n",
              "      <th>1</th>\n",
              "      <td>4030</td>\n",
              "    </tr>\n",
              "    <tr>\n",
              "      <th rowspan=\"2\" valign=\"top\">59</th>\n",
              "      <th>0</th>\n",
              "      <td>112146</td>\n",
              "    </tr>\n",
              "    <tr>\n",
              "      <th>1</th>\n",
              "      <td>1772</td>\n",
              "    </tr>\n",
              "  </tbody>\n",
              "</table>\n",
              "</div>"
            ],
            "text/plain": [
              "                 user_id\n",
              "price converted         \n",
              "39    0           198487\n",
              "      1             4030\n",
              "59    0           112146\n",
              "      1             1772"
            ]
          },
          "metadata": {
            "tags": []
          },
          "execution_count": 10
        }
      ]
    },
    {
      "cell_type": "markdown",
      "metadata": {
        "id": "RkVYsFUSAf9R",
        "colab_type": "text"
      },
      "source": [
        "Joining user information with their corresponding test results."
      ]
    },
    {
      "cell_type": "code",
      "metadata": {
        "id": "eQypBbUL_tdR",
        "colab_type": "code",
        "colab": {}
      },
      "source": [
        "tot_data = pd.merge(clean_test_data, user_data, on='user_id', how='left')"
      ],
      "execution_count": 11,
      "outputs": []
    },
    {
      "cell_type": "markdown",
      "metadata": {
        "id": "5hTU6phEC9MX",
        "colab_type": "text"
      },
      "source": [
        "As revenue is the target variable, we make a column to calculate the revenue generated by a user based on the group the belong to and whether they were converted or not."
      ]
    },
    {
      "cell_type": "code",
      "metadata": {
        "id": "i1hieRDxC-Gz",
        "colab_type": "code",
        "colab": {}
      },
      "source": [
        "tot_data['revenue'] = tot_data['price'] * tot_data['converted'] "
      ],
      "execution_count": 12,
      "outputs": []
    },
    {
      "cell_type": "code",
      "metadata": {
        "id": "3QIPeaQkFU2P",
        "colab_type": "code",
        "colab": {
          "base_uri": "https://localhost:8080/",
          "height": 143
        },
        "outputId": "118f0a74-eaa3-44bb-e42d-090ecf153130"
      },
      "source": [
        "tot_data[['test', 'converted']].groupby('test').mean()"
      ],
      "execution_count": 13,
      "outputs": [
        {
          "output_type": "execute_result",
          "data": {
            "text/html": [
              "<div>\n",
              "<style scoped>\n",
              "    .dataframe tbody tr th:only-of-type {\n",
              "        vertical-align: middle;\n",
              "    }\n",
              "\n",
              "    .dataframe tbody tr th {\n",
              "        vertical-align: top;\n",
              "    }\n",
              "\n",
              "    .dataframe thead th {\n",
              "        text-align: right;\n",
              "    }\n",
              "</style>\n",
              "<table border=\"1\" class=\"dataframe\">\n",
              "  <thead>\n",
              "    <tr style=\"text-align: right;\">\n",
              "      <th></th>\n",
              "      <th>converted</th>\n",
              "    </tr>\n",
              "    <tr>\n",
              "      <th>test</th>\n",
              "      <th></th>\n",
              "    </tr>\n",
              "  </thead>\n",
              "  <tbody>\n",
              "    <tr>\n",
              "      <th>0</th>\n",
              "      <td>0.019900</td>\n",
              "    </tr>\n",
              "    <tr>\n",
              "      <th>1</th>\n",
              "      <td>0.015555</td>\n",
              "    </tr>\n",
              "  </tbody>\n",
              "</table>\n",
              "</div>"
            ],
            "text/plain": [
              "      converted\n",
              "test           \n",
              "0      0.019900\n",
              "1      0.015555"
            ]
          },
          "metadata": {
            "tags": []
          },
          "execution_count": 13
        }
      ]
    },
    {
      "cell_type": "markdown",
      "metadata": {
        "id": "189BDGtRFzg7",
        "colab_type": "text"
      },
      "source": [
        ""
      ]
    },
    {
      "cell_type": "code",
      "metadata": {
        "id": "-AN0E1q8FdH3",
        "colab_type": "code",
        "colab": {
          "base_uri": "https://localhost:8080/",
          "height": 143
        },
        "outputId": "6dfe1b48-58d5-4dfa-f655-48cb7be208a4"
      },
      "source": [
        "tot_data[['test', 'revenue']].groupby('test').mean()"
      ],
      "execution_count": 14,
      "outputs": [
        {
          "output_type": "execute_result",
          "data": {
            "text/html": [
              "<div>\n",
              "<style scoped>\n",
              "    .dataframe tbody tr th:only-of-type {\n",
              "        vertical-align: middle;\n",
              "    }\n",
              "\n",
              "    .dataframe tbody tr th {\n",
              "        vertical-align: top;\n",
              "    }\n",
              "\n",
              "    .dataframe thead th {\n",
              "        text-align: right;\n",
              "    }\n",
              "</style>\n",
              "<table border=\"1\" class=\"dataframe\">\n",
              "  <thead>\n",
              "    <tr style=\"text-align: right;\">\n",
              "      <th></th>\n",
              "      <th>revenue</th>\n",
              "    </tr>\n",
              "    <tr>\n",
              "      <th>test</th>\n",
              "      <th></th>\n",
              "    </tr>\n",
              "  </thead>\n",
              "  <tbody>\n",
              "    <tr>\n",
              "      <th>0</th>\n",
              "      <td>0.776083</td>\n",
              "    </tr>\n",
              "    <tr>\n",
              "      <th>1</th>\n",
              "      <td>0.917748</td>\n",
              "    </tr>\n",
              "  </tbody>\n",
              "</table>\n",
              "</div>"
            ],
            "text/plain": [
              "       revenue\n",
              "test          \n",
              "0     0.776083\n",
              "1     0.917748"
            ]
          },
          "metadata": {
            "tags": []
          },
          "execution_count": 14
        }
      ]
    },
    {
      "cell_type": "markdown",
      "metadata": {
        "id": "6wvC1JY9F1xY",
        "colab_type": "text"
      },
      "source": [
        ""
      ]
    },
    {
      "cell_type": "code",
      "metadata": {
        "id": "SzsvODEcW0Ek",
        "colab_type": "code",
        "colab": {
          "base_uri": "https://localhost:8080/",
          "height": 53
        },
        "outputId": "4739cae1-9731-4304-f7db-e3cb99434390"
      },
      "source": [
        "#Checking if variances for both the groups is same or not.\n",
        "#We know the sample sizes differ\n",
        "\n",
        "import statistics \n",
        "\n",
        "var_ctrl = statistics.variance(tot_data[tot_data['test']== 0]['revenue'])\n",
        "var_exp = statistics.variance(tot_data[tot_data['test']== 1]['revenue'])\n",
        "print(var_ctrl)\n",
        "print(var_exp)"
      ],
      "execution_count": 15,
      "outputs": [
        {
          "output_type": "stream",
          "text": [
            "29.665078490573645\n",
            "53.305330173629486\n"
          ],
          "name": "stdout"
        }
      ]
    },
    {
      "cell_type": "markdown",
      "metadata": {
        "id": "HcV1uLwoFrX8",
        "colab_type": "text"
      },
      "source": [
        "# **A/B Testing**\n",
        "\n",
        "We perform one-tailed Welch's T-test for unequal varianaces. \n",
        "<br> \n",
        "<br>\n",
        "**Null hypothesis H0**: Control (test=0) group's average revenue is equal to or greater than experimental (test=1) group's average revenue.\n",
        "\n",
        "**Alternative hypothesis H1**: Control group's average revenue is less than experimental group's average revenue."
      ]
    },
    {
      "cell_type": "code",
      "metadata": {
        "id": "aUnl2XbuGMBT",
        "colab_type": "code",
        "colab": {
          "base_uri": "https://localhost:8080/",
          "height": 35
        },
        "outputId": "e5e48ff4-8665-457c-d591-f728ff0b99f0"
      },
      "source": [
        "from scipy.stats import ttest_ind\n",
        "\n",
        "print(ttest_ind(tot_data[tot_data['test']== 0]['revenue'], tot_data[tot_data['test'] == 1]['revenue'], axis=0, equal_var=False))"
      ],
      "execution_count": 16,
      "outputs": [
        {
          "output_type": "stream",
          "text": [
            "Ttest_indResult(statistic=-5.715224666463108, pvalue=1.0972577312420781e-08)\n"
          ],
          "name": "stdout"
        }
      ]
    },
    {
      "cell_type": "markdown",
      "metadata": {
        "id": "UNbugv3WeWCE",
        "colab_type": "text"
      },
      "source": [
        "As the p-value < 0.1, we can reject the Null hypothesis. Therefore, Control group's average revenue is not greater or equal to experimental group's average revenue."
      ]
    },
    {
      "cell_type": "markdown",
      "metadata": {
        "id": "0ajlNNYRb5yX",
        "colab_type": "text"
      },
      "source": [
        "# **Analysis of User Behaviour** \n",
        "\n",
        "As it is statistically established that average revenue for the experimental group is higher, next goal is to understand the user characterstics that lead to a higher conversion rate for the control group. \n",
        "<br>\n",
        "This is achieved by analysing what differentiates the users that get converted from that do not. \n",
        "The user that are converted as oppoosed to that do not convert are grouped using multiple features - **Operating System**, **Device** and **Source**."
      ]
    },
    {
      "cell_type": "code",
      "metadata": {
        "id": "o0UbWDWjiz0m",
        "colab_type": "code",
        "colab": {
          "base_uri": "https://localhost:8080/",
          "height": 73
        },
        "outputId": "4f89a7e8-7893-49b0-92e5-27602b415e69"
      },
      "source": [
        "import matplotlib.pyplot as plt\n",
        "import matplotlib.font_manager\n",
        "import seaborn as sns\n",
        "%matplotlib inline"
      ],
      "execution_count": 41,
      "outputs": [
        {
          "output_type": "stream",
          "text": [
            "/usr/local/lib/python3.6/dist-packages/statsmodels/tools/_testing.py:19: FutureWarning: pandas.util.testing is deprecated. Use the functions in the public API at pandas.testing instead.\n",
            "  import pandas.util.testing as tm\n"
          ],
          "name": "stderr"
        }
      ]
    },
    {
      "cell_type": "code",
      "metadata": {
        "id": "xxGF4vCFjP5o",
        "colab_type": "code",
        "colab": {
          "base_uri": "https://localhost:8080/",
          "height": 418
        },
        "outputId": "bb16d5b2-0584-48b9-9fdc-4a00f1f541c3"
      },
      "source": [
        "# Conversion rate per OS \n",
        "plt.rcParams['figure.figsize']=[8,6]\n",
        "CR_operatings = tot_data.groupby(\"operative_system\")[\"converted\"].mean().plot(kind='bar')\n",
        "plt.ylabel('Conversion rate')\n",
        "plt.xticks(rotation=0)\n",
        "plt.title('Conversion rate per operative system')"
      ],
      "execution_count": 48,
      "outputs": [
        {
          "output_type": "execute_result",
          "data": {
            "text/plain": [
              "Text(0.5, 1.0, 'Conversion rate per operative system')"
            ]
          },
          "metadata": {
            "tags": []
          },
          "execution_count": 48
        },
        {
          "output_type": "display_data",
          "data": {
            "image/png": "[encoded data removed]",
            "text/plain": [
              "<Figure size 576x432 with 1 Axes>"
            ]
          },
          "metadata": {
            "tags": []
          }
        }
      ]
    },
    {
      "cell_type": "code",
      "metadata": {
        "id": "rnhq4yVDdVrq",
        "colab_type": "code",
        "colab": {
          "base_uri": "https://localhost:8080/",
          "height": 418
        },
        "outputId": "3b5bb624-9b61-4fd8-b563-7db30005bc77"
      },
      "source": [
        "#Conversion rate per device\n",
        "plt.rcParams['figure.figsize']=[8,6]\n",
        "sourceplot = tot_data.groupby(\"device\")[\"converted\"].mean().plot(kind='bar')\n",
        "plt.ylabel('Conversion rate')\n",
        "plt.xticks(rotation=0)\n",
        "plt.title('Conversion rate per device')"
      ],
      "execution_count": 46,
      "outputs": [
        {
          "output_type": "execute_result",
          "data": {
            "text/plain": [
              "Text(0.5, 1.0, 'Conversion rate per device')"
            ]
          },
          "metadata": {
            "tags": []
          },
          "execution_count": 46
        },
        {
          "output_type": "display_data",
          "data": {
            "image/png": "[encoded data removed]",
            "text/plain": [
              "<Figure size 576x432 with 1 Axes>"
            ]
          },
          "metadata": {
            "tags": []
          }
        }
      ]
    },
    {
      "cell_type": "markdown",
      "metadata": {
        "id": "L_ZRtOfYiq8q",
        "colab_type": "text"
      },
      "source": [
        ""
      ]
    },
    {
      "cell_type": "code",
      "metadata": {
        "id": "5nUJbMEqe5pL",
        "colab_type": "code",
        "colab": {
          "base_uri": "https://localhost:8080/",
          "height": 579
        },
        "outputId": "bf13cacc-9519-4abc-9afb-51095a36ccdc"
      },
      "source": [
        "#Conversion rate per source\n",
        "plt.rcParams['figure.figsize']=[14,8]\n",
        "plt.style.use('seaborn-white')\n",
        "sourceplot = tot_data.groupby(\"source\")[\"converted\"].mean().plot(kind='bar')\n",
        "plt.ylabel('Conversion rate')\n",
        "plt.xticks(rotation=75)\n",
        "plt.title('Conversion rate per source')"
      ],
      "execution_count": 44,
      "outputs": [
        {
          "output_type": "execute_result",
          "data": {
            "text/plain": [
              "Text(0.5, 1.0, 'Conversion rate per source')"
            ]
          },
          "metadata": {
            "tags": []
          },
          "execution_count": 44
        },
        {
          "output_type": "display_data",
          "data": {
            "image/png": "[encoded data removed]",
            "text/plain": [
              "<Figure size 1008x576 with 1 Axes>"
            ]
          },
          "metadata": {
            "tags": []
          }
        }
      ]
    },
    {
      "cell_type": "markdown",
      "metadata": {
        "id": "CFAmgCIAe56Q",
        "colab_type": "text"
      },
      "source": [
        "# **How long is too long?** \n",
        "\n"
      ]
    },
    {
      "cell_type": "markdown",
      "metadata": {
        "id": "EYDjB3TOiI0Q",
        "colab_type": "text"
      },
      "source": [
        "Running the test for just **13 days** as opposed to 3 months resulted in p-value < 0.001 thus would have been sufficient to establish significant difference between the the average revenue of the two groups. This was determined by calculating p-values for shorter time periods. By utilising the same A/B testing approach, it was checked whether running the A/B test for a shorter time period could still provide significant p-value.\n",
        "\n"
      ]
    },
    {
      "cell_type": "code",
      "metadata": {
        "id": "2sjFDXyXgOqD",
        "colab_type": "code",
        "colab": {
          "base_uri": "https://localhost:8080/",
          "height": 54
        },
        "outputId": "02984fb9-f622-4ed3-ea64-290a75dd4060"
      },
      "source": [
        "print(\"Starting time of experiment\")\n",
        "min(tot_data['timestamp'])"
      ],
      "execution_count": 35,
      "outputs": [
        {
          "output_type": "stream",
          "text": [
            "Starting time of experiment\n"
          ],
          "name": "stdout"
        },
        {
          "output_type": "execute_result",
          "data": {
            "application/vnd.google.colaboratory.intrinsic": {
              "type": "string"
            },
            "text/plain": [
              "'2015-03-02 00:04:12'"
            ]
          },
          "metadata": {
            "tags": []
          },
          "execution_count": 35
        }
      ]
    },
    {
      "cell_type": "code",
      "metadata": {
        "id": "qszkQ7JRfNGY",
        "colab_type": "code",
        "colab": {
          "base_uri": "https://localhost:8080/",
          "height": 35
        },
        "outputId": "120af2a3-7fb3-4f0a-a79d-71f29c77660b"
      },
      "source": [
        "#Data for each group for days for 1 month of exp\n",
        "controlgr = tot_data[(tot_data['test'] == 0) & (tot_data['timestamp'] < '2015-04-02') ]['revenue'].values\n",
        "testgr = tot_data[(tot_data['test'] == 1) & (tot_data['timestamp'] < '2015-04-02')]['revenue'].values\n",
        "#perform Welch's t-test\n",
        "print(ttest_ind(controlgr, testgr, axis=0, equal_var=False))"
      ],
      "execution_count": 37,
      "outputs": [
        {
          "output_type": "stream",
          "text": [
            "Ttest_indResult(statistic=-4.15414211702349, pvalue=3.2696683365610206e-05)\n"
          ],
          "name": "stdout"
        }
      ]
    },
    {
      "cell_type": "code",
      "metadata": {
        "id": "LLQHYF5Nf__8",
        "colab_type": "code",
        "colab": {
          "base_uri": "https://localhost:8080/",
          "height": 35
        },
        "outputId": "9894b654-ee39-42ad-a363-76adaafad00d"
      },
      "source": [
        "# Achieves significance (p-value < 0.001)within 13 days of starting the experiment i.e. before '2015-03-15'\n",
        "controlgr = tot_data[(tot_data['test'] == 0) & (tot_data['timestamp'] < '2015-03-15') ]['revenue'].values\n",
        "testgr = tot_data[(tot_data['test'] == 1) & (tot_data['timestamp'] < '2015-03-15')]['revenue'].values\n",
        "#perform Welch's t-test\n",
        "print(ttest_ind(controlgr, testgr, axis=0, equal_var=False))"
      ],
      "execution_count": 39,
      "outputs": [
        {
          "output_type": "stream",
          "text": [
            "Ttest_indResult(statistic=-3.3242015742721187, pvalue=0.0008879872459659555)\n"
          ],
          "name": "stdout"
        }
      ]
    }
  ]
}